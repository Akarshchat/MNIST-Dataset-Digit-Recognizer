{
 "cells": [
  {
   "cell_type": "code",
   "execution_count": 29,
   "id": "6ee4c3d1",
   "metadata": {},
   "outputs": [],
   "source": [
    "import tensorflow as tf"
   ]
  },
  {
   "cell_type": "code",
   "execution_count": 30,
   "id": "eb62a86a",
   "metadata": {},
   "outputs": [],
   "source": [
    "import tensorflow.compat.v1 as tf\n",
    "tf.disable_v2_behavior()"
   ]
  },
  {
   "cell_type": "code",
   "execution_count": 31,
   "id": "cc719876",
   "metadata": {},
   "outputs": [],
   "source": [
    "mnist = tf.keras.datasets.mnist"
   ]
  },
  {
   "cell_type": "code",
   "execution_count": 32,
   "id": "08d35d2b",
   "metadata": {},
   "outputs": [],
   "source": [
    "(train_images, train_labels), (test_images, test_labels) = mnist.load_data()"
   ]
  },
  {
   "cell_type": "code",
   "execution_count": 115,
   "id": "a89aeee7",
   "metadata": {},
   "outputs": [
    {
     "data": {
      "text/plain": [
       "(10000, 28, 28)"
      ]
     },
     "execution_count": 115,
     "metadata": {},
     "output_type": "execute_result"
    }
   ],
   "source": [
    "test_images.shape"
   ]
  },
  {
   "cell_type": "code",
   "execution_count": 44,
   "id": "c970eba1",
   "metadata": {},
   "outputs": [
    {
     "data": {
      "text/plain": [
       "(60000,)"
      ]
     },
     "execution_count": 44,
     "metadata": {},
     "output_type": "execute_result"
    }
   ],
   "source": [
    "train_labels.shape"
   ]
  },
  {
   "cell_type": "code",
   "execution_count": 72,
   "id": "0b499607",
   "metadata": {},
   "outputs": [],
   "source": [
    "\n",
    "labels_encoded = tf.one_hot(train_labels, 10)\n",
    "\n",
    "\n"
   ]
  },
  {
   "cell_type": "code",
   "execution_count": 119,
   "id": "20cfa689",
   "metadata": {},
   "outputs": [],
   "source": [
    "labels_encoded_test = tf.one_hot(test_labels, 10)"
   ]
  },
  {
   "cell_type": "code",
   "execution_count": 120,
   "id": "b9015a4f",
   "metadata": {},
   "outputs": [],
   "source": [
    "testlabels=sess.run(labels_encoded_test)"
   ]
  },
  {
   "cell_type": "code",
   "execution_count": 80,
   "id": "a1a9eacc",
   "metadata": {},
   "outputs": [],
   "source": [
    "trainlabels=sess.run(labels_encoded)"
   ]
  },
  {
   "cell_type": "code",
   "execution_count": 81,
   "id": "27f52833",
   "metadata": {},
   "outputs": [
    {
     "data": {
      "text/plain": [
       "(60000, 10)"
      ]
     },
     "execution_count": 81,
     "metadata": {},
     "output_type": "execute_result"
    }
   ],
   "source": [
    "trainlabels.shape"
   ]
  },
  {
   "cell_type": "code",
   "execution_count": 71,
   "id": "39485a2a",
   "metadata": {
    "scrolled": true
   },
   "outputs": [
    {
     "data": {
      "text/plain": [
       "(60000, 784)"
      ]
     },
     "execution_count": 71,
     "metadata": {},
     "output_type": "execute_result"
    }
   ],
   "source": [
    "train_images.shape"
   ]
  },
  {
   "cell_type": "code",
   "execution_count": 70,
   "id": "77f6f827",
   "metadata": {},
   "outputs": [],
   "source": [
    "train_images=train_images.reshape((60000,784))"
   ]
  },
  {
   "cell_type": "code",
   "execution_count": 116,
   "id": "7f7cb1a6",
   "metadata": {},
   "outputs": [],
   "source": [
    "test_images=test_images.reshape((10000,784))"
   ]
  },
  {
   "cell_type": "code",
   "execution_count": 35,
   "id": "4acad970",
   "metadata": {},
   "outputs": [],
   "source": [
    "import numpy as np\n",
    "import matplotlib.pyplot as plt"
   ]
  },
  {
   "cell_type": "code",
   "execution_count": 36,
   "id": "7370ea5e",
   "metadata": {},
   "outputs": [
    {
     "data": {
      "image/png": "[encoded data removed]",
      "text/plain": [
       "<Figure size 640x480 with 1 Axes>"
      ]
     },
     "metadata": {},
     "output_type": "display_data"
    }
   ],
   "source": [
    "first_image=train_images[6]\n",
    "first_image=np.array(first_image,dtype='float')\n",
    "first_image=first_image.reshape((28,28))\n",
    "plt.imshow(first_image)\n",
    "plt.show()"
   ]
  },
  {
   "cell_type": "code",
   "execution_count": 63,
   "id": "ed5f8747",
   "metadata": {},
   "outputs": [],
   "source": [
    "n_input=784\n",
    "n_hidden=256\n",
    "n_hidden2=256\n",
    "n_classes=10\n",
    "\n",
    "weights={\n",
    "    'h1' : tf.Variable(tf.random_normal([n_input,n_hidden])),\n",
    "    'h2' : tf.Variable(tf.random_normal([n_hidden,n_hidden2])),\n",
    "    'out': tf.Variable(tf.random_normal([n_hidden2,n_classes]))\n",
    "}\n",
    "\n",
    "biases={\n",
    "    'h1': tf.Variable(tf.random_normal([n_hidden])),\n",
    "    'h2': tf.Variable(tf.random_normal([n_hidden2])),\n",
    "    'out': tf.Variable(tf.random_normal([n_classes]))\n",
    "}"
   ]
  },
  {
   "cell_type": "code",
   "execution_count": 64,
   "id": "615b588d",
   "metadata": {},
   "outputs": [],
   "source": [
    "def fp(x,weights,biases):\n",
    "    in_layer1=tf.add(tf.matmul(x,weights['h1']),biases['h1'])\n",
    "    out_layer1=tf.nn.relu(in_layer1)\n",
    "    \n",
    "    in_layer2=tf.add(tf.matmul(out_layer1,weights['h2']),biases['h2'])\n",
    "    out_layer2=tf.nn.relu(in_layer2)\n",
    "    \n",
    "    output=tf.add(tf.matmul(out_layer2,weights['out']),biases['out'])\n",
    "    return output\n",
    "    "
   ]
  },
  {
   "cell_type": "code",
   "execution_count": 65,
   "id": "c57bf621",
   "metadata": {},
   "outputs": [],
   "source": [
    "x=tf.placeholder('float',[None,n_input])\n",
    "y=tf.placeholder(tf.int32,[None,n_classes])\n"
   ]
  },
  {
   "cell_type": "code",
   "execution_count": 66,
   "id": "1e7744fc",
   "metadata": {},
   "outputs": [],
   "source": [
    "pred=fp(x,weights,biases)\n",
    "predictions=tf.argmax(pred,1)\n",
    "true_labels=tf.argmax(y,1)\n",
    "correct_predictions=tf.equal(predictions,true_labels)"
   ]
  },
  {
   "cell_type": "code",
   "execution_count": 92,
   "id": "dcb0c380",
   "metadata": {},
   "outputs": [],
   "source": [
    "sess=tf.Session()\n",
    "sess.run(tf.global_variables_initializer())"
   ]
  },
  {
   "cell_type": "code",
   "execution_count": 88,
   "id": "57607b13",
   "metadata": {},
   "outputs": [
    {
     "data": {
      "text/plain": [
       "(array([4, 4, 8, ..., 0, 4, 0]),\n",
       " array([5, 0, 4, ..., 5, 6, 8]),\n",
       " array([False, False, False, ..., False, False, False]))"
      ]
     },
     "execution_count": 88,
     "metadata": {},
     "output_type": "execute_result"
    }
   ],
   "source": [
    "pred_eval,labels,correct_pred=sess.run([predictions,true_labels,correct_predictions],feed_dict={x:train_images,y:trainlabels})\n",
    "pred_eval,labels,correct_pred"
   ]
  },
  {
   "cell_type": "code",
   "execution_count": 89,
   "id": "d66fc5a5",
   "metadata": {},
   "outputs": [
    {
     "data": {
      "text/plain": [
       "3811"
      ]
     },
     "execution_count": 89,
     "metadata": {},
     "output_type": "execute_result"
    }
   ],
   "source": [
    "correct_pred.sum()"
   ]
  },
  {
   "cell_type": "code",
   "execution_count": 90,
   "id": "41eaf7e3",
   "metadata": {},
   "outputs": [],
   "source": [
    "cost=tf.reduce_mean(tf.nn.softmax_cross_entropy_with_logits(logits=pred,labels=y))"
   ]
  },
  {
   "cell_type": "code",
   "execution_count": 91,
   "id": "0b8554f5",
   "metadata": {},
   "outputs": [],
   "source": [
    "optimizer=tf.train.AdamOptimizer(learning_rate=0.01)\n",
    "optimize=optimizer.minimize(cost)\n"
   ]
  },
  {
   "cell_type": "code",
   "execution_count": 113,
   "id": "d0f3ae5b",
   "metadata": {},
   "outputs": [
    {
     "name": "stdout",
     "output_type": "stream",
     "text": [
      "[316.8229, None]\n",
      "[312.2748, None]\n",
      "[310.38806, None]\n",
      "[306.06827, None]\n",
      "[301.74545, None]\n",
      "[299.46106, None]\n",
      "[295.08072, None]\n",
      "[291.93512, None]\n",
      "[288.3853, None]\n",
      "[285.23254, None]\n",
      "[282.6276, None]\n",
      "[281.3436, None]\n",
      "[278.32312, None]\n",
      "[273.83792, None]\n",
      "[269.29456, None]\n",
      "[267.8848, None]\n",
      "[263.5343, None]\n",
      "[260.81186, None]\n",
      "[257.04205, None]\n",
      "[254.4409, None]\n",
      "[251.48471, None]\n",
      "[248.5059, None]\n",
      "[245.06317, None]\n",
      "[241.89449, None]\n",
      "[239.26411, None]\n",
      "[236.22578, None]\n",
      "[233.70863, None]\n",
      "[231.39244, None]\n",
      "[230.2217, None]\n",
      "[226.29404, None]\n",
      "[224.72253, None]\n",
      "[221.55183, None]\n",
      "[218.2266, None]\n",
      "[216.41017, None]\n",
      "[213.57973, None]\n",
      "[210.57086, None]\n",
      "[208.26465, None]\n",
      "[205.68646, None]\n",
      "[203.00597, None]\n",
      "[200.97736, None]\n",
      "[197.55391, None]\n",
      "[195.29977, None]\n",
      "[193.169, None]\n",
      "[190.01242, None]\n",
      "[188.30685, None]\n",
      "[185.06306, None]\n",
      "[183.2354, None]\n",
      "[181.0546, None]\n",
      "[178.76431, None]\n",
      "[176.18985, None]\n",
      "[173.74489, None]\n",
      "[171.5383, None]\n",
      "[169.02676, None]\n",
      "[166.86963, None]\n",
      "[165.15027, None]\n",
      "[163.27974, None]\n",
      "[160.65297, None]\n",
      "[159.78616, None]\n",
      "[159.63757, None]\n",
      "[159.61575, None]\n",
      "[155.27083, None]\n",
      "[151.8027, None]\n",
      "[151.85867, None]\n",
      "[148.41037, None]\n",
      "[147.9645, None]\n",
      "[144.8884, None]\n",
      "[143.65314, None]\n",
      "[141.5504, None]\n",
      "[141.09744, None]\n",
      "[138.46957, None]\n",
      "[138.04015, None]\n",
      "[135.84912, None]\n",
      "[135.26044, None]\n",
      "[132.60168, None]\n",
      "[132.63976, None]\n",
      "[129.96475, None]\n",
      "[130.62424, None]\n",
      "[126.38067, None]\n",
      "[129.11514, None]\n",
      "[123.54847, None]\n",
      "[126.4691, None]\n",
      "[121.892586, None]\n",
      "[125.21115, None]\n",
      "[119.24837, None]\n",
      "[126.03718, None]\n",
      "[115.7076, None]\n",
      "[121.576866, None]\n",
      "[113.31976, None]\n",
      "[113.157135, None]\n",
      "[114.285645, None]\n",
      "[108.72502, None]\n",
      "[108.498764, None]\n",
      "[108.68905, None]\n",
      "[104.91745, None]\n",
      "[103.80844, None]\n",
      "[103.4547, None]\n",
      "[101.0569, None]\n",
      "[99.25495, None]\n",
      "[97.9603, None]\n",
      "[96.96324, None]\n"
     ]
    }
   ],
   "source": [
    "for iter in range(100):\n",
    "    c=sess.run([cost,optimize],feed_dict={x:train_images,y:trainlabels})\n",
    "    print(c)"
   ]
  },
  {
   "cell_type": "code",
   "execution_count": 117,
   "id": "d7f38eb5",
   "metadata": {},
   "outputs": [
    {
     "data": {
      "text/plain": [
       "59736"
      ]
     },
     "execution_count": 117,
     "metadata": {},
     "output_type": "execute_result"
    }
   ],
   "source": [
    "predictions=tf.argmax(pred,1)\n",
    "true_labels=tf.argmax(y,1)\n",
    "correct_predictions=tf.equal(predictions,true_labels)\n",
    "pred_eval,labels,correct_pred=sess.run([predictions,true_labels,correct_predictions],feed_dict={x:train_images,y:trainlabels})\n",
    "pred_eval,labels,correct_pred\n",
    "correct_pred.sum()\n"
   ]
  },
  {
   "cell_type": "code",
   "execution_count": 118,
   "id": "ca3caf72",
   "metadata": {},
   "outputs": [
    {
     "data": {
      "text/plain": [
       "99.56"
      ]
     },
     "execution_count": 118,
     "metadata": {},
     "output_type": "execute_result"
    }
   ],
   "source": [
    "\n",
    "tf.divide(correct_pred.sum(),60000)\n",
    "z=tf.multiply(tf.divide(correct_pred.sum(),60000),100)\n",
    "sess.run(z)"
   ]
  },
  {
   "cell_type": "code",
   "execution_count": 121,
   "id": "de254216",
   "metadata": {},
   "outputs": [
    {
     "data": {
      "text/plain": [
       "9318"
      ]
     },
     "execution_count": 121,
     "metadata": {},
     "output_type": "execute_result"
    }
   ],
   "source": [
    "predictions=tf.argmax(pred,1)\n",
    "true_labels=tf.argmax(y,1)\n",
    "correct_predictions=tf.equal(predictions,true_labels)\n",
    "pred_eval,labels,correct_pred=sess.run([predictions,true_labels,correct_predictions],feed_dict={x:test_images,y:testlabels})\n",
    "pred_eval,labels,correct_pred\n",
    "correct_pred.sum()\n"
   ]
  },
  {
   "cell_type": "code",
   "execution_count": 122,
   "id": "713f9060",
   "metadata": {},
   "outputs": [
    {
     "data": {
      "text/plain": [
       "93.17999999999999"
      ]
     },
     "execution_count": 122,
     "metadata": {},
     "output_type": "execute_result"
    }
   ],
   "source": [
    "\n",
    "tf.divide(correct_pred.sum(),10000)\n",
    "z=tf.multiply(tf.divide(correct_pred.sum(),10000),100)\n",
    "sess.run(z)"
   ]
  },
  {
   "cell_type": "code",
   "execution_count": null,
   "id": "9c0b469a",
   "metadata": {},
   "outputs": [],
   "source": []
  }
 ],
 "metadata": {
  "kernelspec": {
   "display_name": "Python 3 (ipykernel)",
   "language": "python",
   "name": "python3"
  },
  "language_info": {
   "codemirror_mode": {
    "name": "ipython",
    "version": 3
   },
   "file_extension": ".py",
   "mimetype": "text/x-python",
   "name": "python",
   "nbconvert_exporter": "python",
   "pygments_lexer": "ipython3",
   "version": "3.10.9"
  }
 },
 "nbformat": 4,
 "nbformat_minor": 5
}
