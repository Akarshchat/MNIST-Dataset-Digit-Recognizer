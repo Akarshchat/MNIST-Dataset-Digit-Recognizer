{
 "cells": [
  {
   "cell_type": "code",
   "execution_count": 1,
   "id": "9aec2c41",
   "metadata": {
    "execution": {
     "iopub.execute_input": "2023-06-20T11:37:52.133358Z",
     "iopub.status.busy": "2023-06-20T11:37:52.132529Z",
     "iopub.status.idle": "2023-06-20T11:37:59.546751Z",
     "shell.execute_reply": "2023-06-20T11:37:59.545784Z",
     "shell.execute_reply.started": "2023-06-20T11:37:52.133322Z"
    }
   },
   "outputs": [
    {
     "name": "stderr",
     "output_type": "stream",
     "text": [
      "/opt/conda/lib/python3.10/site-packages/tensorflow_io/python/ops/__init__.py:98: UserWarning: unable to load libtensorflow_io_plugins.so: unable to open file: libtensorflow_io_plugins.so, from paths: ['/opt/conda/lib/python3.10/site-packages/tensorflow_io/python/ops/libtensorflow_io_plugins.so']\n",
      "caused by: ['/opt/conda/lib/python3.10/site-packages/tensorflow_io/python/ops/libtensorflow_io_plugins.so: undefined symbol: _ZN3tsl6StatusC1EN10tensorflow5error4CodeESt17basic_string_viewIcSt11char_traitsIcEENS_14SourceLocationE']\n",
      "  warnings.warn(f\"unable to load libtensorflow_io_plugins.so: {e}\")\n",
      "/opt/conda/lib/python3.10/site-packages/tensorflow_io/python/ops/__init__.py:104: UserWarning: file system plugins are not loaded: unable to open file: libtensorflow_io.so, from paths: ['/opt/conda/lib/python3.10/site-packages/tensorflow_io/python/ops/libtensorflow_io.so']\n",
      "caused by: ['/opt/conda/lib/python3.10/site-packages/tensorflow_io/python/ops/libtensorflow_io.so: undefined symbol: _ZTVN10tensorflow13GcsFileSystemE']\n",
      "  warnings.warn(f\"file system plugins are not loaded: {e}\")\n"
     ]
    }
   ],
   "source": [
    "import tensorflow as tf"
   ]
  },
  {
   "cell_type": "code",
   "execution_count": 2,
   "id": "eb050067",
   "metadata": {
    "execution": {
     "iopub.execute_input": "2023-06-20T11:37:59.549310Z",
     "iopub.status.busy": "2023-06-20T11:37:59.548654Z",
     "iopub.status.idle": "2023-06-20T11:37:59.556625Z",
     "shell.execute_reply": "2023-06-20T11:37:59.555442Z",
     "shell.execute_reply.started": "2023-06-20T11:37:59.549283Z"
    }
   },
   "outputs": [],
   "source": [
    "import tensorflow.compat.v1 as tf\n",
    "tf.disable_v2_behavior()"
   ]
  },
  {
   "cell_type": "code",
   "execution_count": 3,
   "id": "6849aa2c",
   "metadata": {
    "execution": {
     "iopub.execute_input": "2023-06-20T11:37:59.558734Z",
     "iopub.status.busy": "2023-06-20T11:37:59.558382Z",
     "iopub.status.idle": "2023-06-20T11:37:59.653233Z",
     "shell.execute_reply": "2023-06-20T11:37:59.652286Z",
     "shell.execute_reply.started": "2023-06-20T11:37:59.558704Z"
    }
   },
   "outputs": [],
   "source": [
    "mnist = tf.keras.datasets.mnist"
   ]
  },
  {
   "cell_type": "code",
   "execution_count": 25,
   "id": "34ab788f",
   "metadata": {
    "execution": {
     "iopub.execute_input": "2023-06-20T13:00:57.375654Z",
     "iopub.status.busy": "2023-06-20T13:00:57.375288Z",
     "iopub.status.idle": "2023-06-20T13:00:57.638540Z",
     "shell.execute_reply": "2023-06-20T13:00:57.637550Z",
     "shell.execute_reply.started": "2023-06-20T13:00:57.375626Z"
    }
   },
   "outputs": [],
   "source": [
    "(train_images, train_labels), (test_images, test_labels) = mnist.load_data()"
   ]
  },
  {
   "cell_type": "code",
   "execution_count": 32,
   "id": "a2a93914",
   "metadata": {
    "execution": {
     "iopub.execute_input": "2023-06-20T13:02:31.915963Z",
     "iopub.status.busy": "2023-06-20T13:02:31.915260Z",
     "iopub.status.idle": "2023-06-20T13:02:32.137172Z",
     "shell.execute_reply": "2023-06-20T13:02:32.135973Z",
     "shell.execute_reply.started": "2023-06-20T13:02:31.915923Z"
    }
   },
   "outputs": [],
   "source": [
    "train_images=tf.reshape(train_images,shape=[60000,28,28,1])\n"
   ]
  },
  {
   "cell_type": "code",
   "execution_count": 39,
   "id": "ac866070",
   "metadata": {
    "execution": {
     "iopub.execute_input": "2023-06-20T13:09:14.072818Z",
     "iopub.status.busy": "2023-06-20T13:09:14.072458Z",
     "iopub.status.idle": "2023-06-20T13:09:14.081557Z",
     "shell.execute_reply": "2023-06-20T13:09:14.080332Z",
     "shell.execute_reply.started": "2023-06-20T13:09:14.072789Z"
    }
   },
   "outputs": [],
   "source": [
    "labels_encoded = tf.one_hot(test_labels, 10)"
   ]
  },
  {
   "cell_type": "code",
   "execution_count": 28,
   "id": "5fe08952",
   "metadata": {
    "execution": {
     "iopub.execute_input": "2023-06-20T13:01:20.884633Z",
     "iopub.status.busy": "2023-06-20T13:01:20.884262Z",
     "iopub.status.idle": "2023-06-20T13:01:20.918515Z",
     "shell.execute_reply": "2023-06-20T13:01:20.917534Z",
     "shell.execute_reply.started": "2023-06-20T13:01:20.884605Z"
    }
   },
   "outputs": [],
   "source": [
    "test_images=tf.reshape(test_images,shape=[10000,28,28,1])\n"
   ]
  },
  {
   "cell_type": "code",
   "execution_count": 26,
   "id": "017dc22c",
   "metadata": {
    "execution": {
     "iopub.execute_input": "2023-06-20T13:01:03.798619Z",
     "iopub.status.busy": "2023-06-20T13:01:03.798269Z",
     "iopub.status.idle": "2023-06-20T13:01:03.807275Z",
     "shell.execute_reply": "2023-06-20T13:01:03.806136Z",
     "shell.execute_reply.started": "2023-06-20T13:01:03.798591Z"
    }
   },
   "outputs": [
    {
     "data": {
      "text/plain": [
       "(10000, 28, 28)"
      ]
     },
     "execution_count": 26,
     "metadata": {},
     "output_type": "execute_result"
    }
   ],
   "source": [
    "test_images.shape"
   ]
  },
  {
   "cell_type": "code",
   "execution_count": 8,
   "id": "22da208f",
   "metadata": {
    "execution": {
     "iopub.execute_input": "2023-06-20T11:38:01.728310Z",
     "iopub.status.busy": "2023-06-20T11:38:01.727798Z",
     "iopub.status.idle": "2023-06-20T11:38:01.734680Z",
     "shell.execute_reply": "2023-06-20T11:38:01.733655Z",
     "shell.execute_reply.started": "2023-06-20T11:38:01.728279Z"
    }
   },
   "outputs": [],
   "source": [
    "from keras.models import Sequential\n",
    "from keras.layers import Conv2D, MaxPooling2D, Flatten, Dense\n"
   ]
  },
  {
   "cell_type": "code",
   "execution_count": 9,
   "id": "5c949ef6",
   "metadata": {
    "execution": {
     "iopub.execute_input": "2023-06-20T11:38:01.736809Z",
     "iopub.status.busy": "2023-06-20T11:38:01.736406Z",
     "iopub.status.idle": "2023-06-20T11:38:01.747458Z",
     "shell.execute_reply": "2023-06-20T11:38:01.746486Z",
     "shell.execute_reply.started": "2023-06-20T11:38:01.736768Z"
    }
   },
   "outputs": [],
   "source": [
    "model=Sequential()"
   ]
  },
  {
   "cell_type": "code",
   "execution_count": 10,
   "id": "5c501fe7",
   "metadata": {
    "execution": {
     "iopub.execute_input": "2023-06-20T11:38:01.752826Z",
     "iopub.status.busy": "2023-06-20T11:38:01.751965Z",
     "iopub.status.idle": "2023-06-20T11:38:01.808737Z",
     "shell.execute_reply": "2023-06-20T11:38:01.807857Z",
     "shell.execute_reply.started": "2023-06-20T11:38:01.752796Z"
    }
   },
   "outputs": [],
   "source": [
    "model.add(Conv2D(32, (5, 5), activation='relu', input_shape=(28, 28, 1)))\n",
    "model.add(MaxPooling2D(pool_size=(2, 2)))\n",
    "model.add(Conv2D(64, (5, 5), activation='relu', input_shape=(14, 14, 32)))\n",
    "model.add(MaxPooling2D(pool_size=(2, 2)))\n"
   ]
  },
  {
   "cell_type": "code",
   "execution_count": 11,
   "id": "60288cd3",
   "metadata": {
    "execution": {
     "iopub.execute_input": "2023-06-20T11:38:01.810554Z",
     "iopub.status.busy": "2023-06-20T11:38:01.810130Z",
     "iopub.status.idle": "2023-06-20T11:38:01.819391Z",
     "shell.execute_reply": "2023-06-20T11:38:01.818312Z",
     "shell.execute_reply.started": "2023-06-20T11:38:01.810524Z"
    }
   },
   "outputs": [],
   "source": [
    "model.add(Flatten())\n"
   ]
  },
  {
   "cell_type": "code",
   "execution_count": 12,
   "id": "3f80efde",
   "metadata": {
    "execution": {
     "iopub.execute_input": "2023-06-20T11:38:01.821948Z",
     "iopub.status.busy": "2023-06-20T11:38:01.821370Z",
     "iopub.status.idle": "2023-06-20T11:38:01.860693Z",
     "shell.execute_reply": "2023-06-20T11:38:01.859835Z",
     "shell.execute_reply.started": "2023-06-20T11:38:01.821894Z"
    }
   },
   "outputs": [],
   "source": [
    "model.add(Dense(1024, activation='relu'))\n",
    "model.add(Dense(10,activation='sigmoid'))\n",
    "\n"
   ]
  },
  {
   "cell_type": "code",
   "execution_count": 13,
   "id": "89a4efdc",
   "metadata": {
    "execution": {
     "iopub.execute_input": "2023-06-20T11:38:01.863595Z",
     "iopub.status.busy": "2023-06-20T11:38:01.863039Z",
     "iopub.status.idle": "2023-06-20T11:38:01.916622Z",
     "shell.execute_reply": "2023-06-20T11:38:01.915730Z",
     "shell.execute_reply.started": "2023-06-20T11:38:01.863563Z"
    }
   },
   "outputs": [],
   "source": [
    "model.compile(loss='binary_crossentropy', optimizer='adam', metrics=['accuracy'])\n"
   ]
  },
  {
   "cell_type": "code",
   "execution_count": 14,
   "id": "21a769fa",
   "metadata": {
    "execution": {
     "iopub.execute_input": "2023-06-20T11:38:01.918517Z",
     "iopub.status.busy": "2023-06-20T11:38:01.918180Z",
     "iopub.status.idle": "2023-06-20T11:38:01.927626Z",
     "shell.execute_reply": "2023-06-20T11:38:01.926612Z",
     "shell.execute_reply.started": "2023-06-20T11:38:01.918485Z"
    }
   },
   "outputs": [],
   "source": [
    "from tensorflow.keras.utils import to_categorical\n",
    "\n",
    "# Assuming your target array is called \"target\"\n",
    "# Assuming you have 10 classes\n",
    "\n",
    "num_classes = 10\n",
    "\n",
    "# Convert the target array to binary class matrix\n",
    "target_binary = to_categorical(train_labels, num_classes)\n",
    "\n",
    "# Now the shape of the target_binary array will be (60000, 10)\n"
   ]
  },
  {
   "cell_type": "code",
   "execution_count": 16,
   "id": "61a6c943",
   "metadata": {
    "execution": {
     "iopub.execute_input": "2023-06-20T11:48:20.692768Z",
     "iopub.status.busy": "2023-06-20T11:48:20.692420Z",
     "iopub.status.idle": "2023-06-20T12:02:15.225554Z",
     "shell.execute_reply": "2023-06-20T12:02:15.224538Z",
     "shell.execute_reply.started": "2023-06-20T11:48:20.692740Z"
    }
   },
   "outputs": [
    {
     "name": "stdout",
     "output_type": "stream",
     "text": [
      "Train on 1875 samples\n",
      "1875/1875 [==============================] - 835s 445ms/step - batch: 937.0000 - size: 1.0000 - loss: 7.4754e-06 - acc: 1.0000\n"
     ]
    },
    {
     "data": {
      "text/plain": [
       "<keras.callbacks.History at 0x78d8159d7f40>"
      ]
     },
     "execution_count": 16,
     "metadata": {},
     "output_type": "execute_result"
    }
   ],
   "source": [
    "model.fit(train_images, target_binary, steps_per_epoch = 60000 // 32\n",
    ",batch_size=32, epochs=1)\n"
   ]
  },
  {
   "cell_type": "markdown",
   "id": "266dfad0",
   "metadata": {},
   "source": []
  },
  {
   "cell_type": "code",
   "execution_count": 40,
   "id": "609f135e",
   "metadata": {
    "execution": {
     "iopub.execute_input": "2023-06-20T13:09:19.433070Z",
     "iopub.status.busy": "2023-06-20T13:09:19.432695Z",
     "iopub.status.idle": "2023-06-20T13:09:20.308788Z",
     "shell.execute_reply": "2023-06-20T13:09:20.307842Z",
     "shell.execute_reply.started": "2023-06-20T13:09:19.433040Z"
    }
   },
   "outputs": [],
   "source": [
    "loss, accuracy = model.evaluate(test_images, labels_encoded,steps=1)\n"
   ]
  },
  {
   "cell_type": "code",
   "execution_count": 41,
   "id": "d8e84869",
   "metadata": {
    "execution": {
     "iopub.execute_input": "2023-06-20T13:09:25.474196Z",
     "iopub.status.busy": "2023-06-20T13:09:25.472477Z",
     "iopub.status.idle": "2023-06-20T13:09:25.481873Z",
     "shell.execute_reply": "2023-06-20T13:09:25.480974Z",
     "shell.execute_reply.started": "2023-06-20T13:09:25.474154Z"
    }
   },
   "outputs": [
    {
     "data": {
      "text/plain": [
       "0.99705994"
      ]
     },
     "execution_count": 41,
     "metadata": {},
     "output_type": "execute_result"
    }
   ],
   "source": [
    "accuracy"
   ]
  },
  {
   "cell_type": "code",
   "execution_count": 38,
   "id": "64598879",
   "metadata": {
    "execution": {
     "iopub.execute_input": "2023-06-20T13:08:42.585425Z",
     "iopub.status.busy": "2023-06-20T13:08:42.585063Z",
     "iopub.status.idle": "2023-06-20T13:08:42.591716Z",
     "shell.execute_reply": "2023-06-20T13:08:42.590693Z",
     "shell.execute_reply.started": "2023-06-20T13:08:42.585396Z"
    }
   },
   "outputs": [
    {
     "data": {
      "text/plain": [
       "2.3798072561476147e-06"
      ]
     },
     "execution_count": 38,
     "metadata": {},
     "output_type": "execute_result"
    }
   ],
   "source": [
    "loss"
   ]
  },
  {
   "cell_type": "code",
   "execution_count": 30,
   "id": "8b698502",
   "metadata": {
    "execution": {
     "iopub.execute_input": "2023-06-20T13:02:05.487022Z",
     "iopub.status.busy": "2023-06-20T13:02:05.486637Z",
     "iopub.status.idle": "2023-06-20T13:02:06.339962Z",
     "shell.execute_reply": "2023-06-20T13:02:06.338972Z",
     "shell.execute_reply.started": "2023-06-20T13:02:05.486994Z"
    }
   },
   "outputs": [
    {
     "name": "stderr",
     "output_type": "stream",
     "text": [
      "/opt/conda/lib/python3.10/site-packages/keras/engine/training_v1.py:2359: UserWarning: `Model.state_updates` will be removed in a future version. This property should not be used in TensorFlow 2.0, as `updates` are applied automatically.\n",
      "  updates=self.state_updates,\n"
     ]
    },
    {
     "data": {
      "text/plain": [
       "array([[2.48618221e-21, 2.01353727e-17, 2.35264314e-26, ...,\n",
       "        1.00000000e+00, 7.56582104e-20, 2.43409402e-14],\n",
       "       [9.10930031e-25, 1.12358472e-14, 1.00000000e+00, ...,\n",
       "        0.00000000e+00, 9.73193907e-23, 1.35169048e-25],\n",
       "       [7.46817997e-21, 1.00000000e+00, 3.08892587e-14, ...,\n",
       "        3.58350978e-18, 8.16786742e-12, 1.74321246e-21],\n",
       "       ...,\n",
       "       [6.76963597e-33, 1.66175707e-26, 4.81024329e-37, ...,\n",
       "        9.45607074e-25, 7.05802197e-18, 1.98964794e-30],\n",
       "       [7.80182692e-18, 6.35475231e-34, 1.72636411e-21, ...,\n",
       "        1.51541551e-26, 8.18397723e-08, 1.56267219e-12],\n",
       "       [3.27443509e-16, 1.16172576e-29, 1.98404298e-19, ...,\n",
       "        8.69405214e-31, 4.62837794e-17, 5.17862425e-14]], dtype=float32)"
      ]
     },
     "execution_count": 30,
     "metadata": {},
     "output_type": "execute_result"
    }
   ],
   "source": [
    "pred=model.predict(test_images,steps=1)\n",
    "pred"
   ]
  },
  {
   "cell_type": "code",
   "execution_count": null,
   "id": "7bd8e37b",
   "metadata": {},
   "outputs": [],
   "source": []
  }
 ],
 "metadata": {
  "kernelspec": {
   "display_name": "Python 3 (ipykernel)",
   "language": "python",
   "name": "python3"
  },
  "language_info": {
   "codemirror_mode": {
    "name": "ipython",
    "version": 3
   },
   "file_extension": ".py",
   "mimetype": "text/x-python",
   "name": "python",
   "nbconvert_exporter": "python",
   "pygments_lexer": "ipython3",
   "version": "3.10.9"
  }
 },
 "nbformat": 4,
 "nbformat_minor": 5
}
